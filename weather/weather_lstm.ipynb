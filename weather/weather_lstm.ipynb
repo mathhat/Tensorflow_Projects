{
 "cells": [
  {
   "cell_type": "markdown",
   "metadata": {},
   "source": [
    "This is just an attempt to forecast weather. I'll be using some machine-learning techniques, most likely lstm/RNN networks. The weather data is on 20 some US cities, 8 israeli cities and one in canada. Got it on kaggle, dubbed \"historical hourly weather data\""
   ]
  },
  {
   "cell_type": "code",
   "execution_count": 83,
   "metadata": {},
   "outputs": [],
   "source": [
    "import numpy as np \n",
    "import tensorflow as tf \n",
    "import pandas as pd\n",
    "import matplotlib.pyplot as plt\n",
    "plt.style.use('fivethirtyeight') \n",
    "# Above is a special style template for matplotlib, highly useful for visualizing time series data\n",
    "%matplotlib inline"
   ]
  },
  {
   "cell_type": "markdown",
   "metadata": {},
   "source": [
    "Loading data, it's now in an hourly format with a fair share of vacancies that pandas can fill with the \"ffill\" method"
   ]
  },
  {
   "cell_type": "code",
   "execution_count": 126,
   "metadata": {},
   "outputs": [
    {
     "name": "stdout",
     "output_type": "stream",
     "text": [
      "1\n",
      "2\n",
      "3\n",
      "4\n",
      "5\n",
      "6\n"
     ]
    }
   ],
   "source": [
    "datapath = \"/home/joe/Documents/tensor/weather/historical-hourly-weather-data/\"\n",
    "names=['city_attributes.csv','humidity.csv','pressure.csv','temperature.csv','weather_description.csv','wind_direction.csv','wind_speed.csv']\n",
    "data = []\n",
    "for i in range(1,7):\n",
    "    print i\n",
    "    data_i = pd.read_csv(datapath+names[i], index_col='datetime', parse_dates=['datetime'])\n",
    "    data_i = data_i.iloc[1:]\n",
    "    data_i = data_i.fillna(method='ffill')\n",
    "    data_i = data_i.fillna(method='bfill')\n",
    "    data.append(data_i)"
   ]
  },
  {
   "cell_type": "markdown",
   "metadata": {},
   "source": [
    "Suitable variable names, delete unnecessary data"
   ]
  },
  {
   "cell_type": "code",
   "execution_count": 127,
   "metadata": {},
   "outputs": [],
   "source": [
    "#create variables\n",
    "humidity = data[0] #floats , no idea \n",
    "pressure = data[1] #floats kPa i think\n",
    "temperature = data[2] #floats kelvin\n",
    "weather = data[3]   #string\n",
    "wind_dir = data[4]  #degrees [0,360]\n",
    "wind_vel = data[5]\n",
    "if 'data' in globals(): #if data hasn't already been deleted for memory purposes\n",
    "    del(data)\n",
    "    del(data_i)"
   ]
  },
  {
   "cell_type": "markdown",
   "metadata": {},
   "source": [
    "Choose a city?"
   ]
  },
  {
   "cell_type": "code",
   "execution_count": 202,
   "metadata": {},
   "outputs": [],
   "source": [
    "cityname = \"Miami\"\n",
    "if len(cityname) > 2:\n",
    "    humidity2 = humidity[cityname].asfreq('D')\n",
    "    pressure2 = pressure[cityname].asfreq('D')\n",
    "    temperature2 = temperature[cityname].asfreq('D')\n",
    "    weather2 = weather[cityname].asfreq('D')\n",
    "    wind_dir2 = wind_dir[cityname].asfreq('D')\n",
    "    wind_vel2 = wind_vel[cityname].asfreq('D')"
   ]
  },
  {
   "cell_type": "markdown",
   "metadata": {},
   "source": [
    "Plot?"
   ]
  },
  {
   "cell_type": "code",
   "execution_count": 203,
   "metadata": {},
   "outputs": [
    {
     "data": {
      "image/png": "[encoded data removed]",
      "text/plain": [
       "<matplotlib.figure.Figure at 0x7f18a030b2d0>"
      ]
     },
     "metadata": {},
     "output_type": "display_data"
    }
   ],
   "source": [
    "''' #Useful operations\n",
    "#print humidity.tail()\n",
    "#print humidity.resample('H').shape\n",
    "'''\n",
    "humidity2.asfreq('M').plot()\n",
    "#humidity.rolling('30D').mean().plot()\n",
    "plt.title(\"Humidity in %s\"%cityname)\n",
    "plt.show()\n"
   ]
  },
  {
   "cell_type": "markdown",
   "metadata": {},
   "source": [
    "Can't use previous plot functions, or scripts, after this point, here starts the machinelearning I hope"
   ]
  },
  {
   "cell_type": "code",
   "execution_count": 204,
   "metadata": {},
   "outputs": [],
   "source": [
    "humidity_a = humidity2.as_matrix() #numpy array from here\n",
    "pressure_a = pressure2.as_matrix()\n",
    "temperature_a = temperature2.as_matrix()\n",
    "weather_a = weather2.as_matrix()\n",
    "wind_dir_a = wind_dir2.as_matrix()\n",
    "wind_vel_a = wind_vel2.as_matrix()"
   ]
  },
  {
   "cell_type": "code",
   "execution_count": 205,
   "metadata": {},
   "outputs": [
    {
     "name": "stdout",
     "output_type": "stream",
     "text": [
      "1020.0 290.69 0.0 2.0\n",
      "1017.0 288.88 0.0 3.0\n",
      "1016.0 289.87 310.0 2.0\n",
      "1018.0 288.87 330.0 3.0\n",
      "1020.0 288.89 340.0 3.0\n"
     ]
    }
   ],
   "source": [
    "weather_types = dict() #weather to id\n",
    "weather_frequency = dict() #weather to frequency\n",
    "j = 0\n",
    "for i in range(len(weather_a)):\n",
    "    \n",
    "    if weather_a[i] not in weather_types:\n",
    "        weather_frequency[weather_a[i]] = 0\n",
    "        weather_types[weather_a[i]] = j \n",
    "        j+=1\n",
    "    weather_frequency[weather_a[i]] += 1\n",
    "    weather_a[i] = weather_types[weather_a[i]]\n",
    "for i in range(50,55):\n",
    "    print pressure_a[i], temperature_a[i], wind_dir_a[i], wind_vel_a[i]"
   ]
  },
  {
   "cell_type": "markdown",
   "metadata": {},
   "source": [
    "Weather types will now be ranked by frequency. We then remove rare weather"
   ]
  },
  {
   "cell_type": "code",
   "execution_count": 206,
   "metadata": {},
   "outputs": [
    {
     "name": "stdout",
     "output_type": "stream",
     "text": [
      "[(1, 15), (1, 16), (1, 17), (1, 20), (2, 5), (3, 19), (6, 18), (9, 0), (11, 11), (13, 14), (15, 9), (15, 12), (16, 13), (46, 8), (88, 6), (113, 10), (242, 7), (247, 4), (280, 3), (308, 2), (468, 1)]\n"
     ]
    }
   ],
   "source": [
    "sorted_weather = sorted( zip(weather_frequency.values(),weather_types.values()))\n",
    "print sorted_weather"
   ]
  },
  {
   "cell_type": "markdown",
   "metadata": {},
   "source": [
    "Here we pinpoint which indices in the dataset that belong to the most frequent weather types. (and redefine the dataset so that only the data belonging to typical weather remains. We also normalize the data."
   ]
  },
  {
   "cell_type": "code",
   "execution_count": 207,
   "metadata": {},
   "outputs": [
    {
     "name": "stdout",
     "output_type": "stream",
     "text": [
      "These are the ids of weather we want to keep:  [10, 7, 4, 3, 2, 1]\n",
      "The amount of initial data points:  1886\n",
      "The amount of data after removing rare weather:  1658\n",
      "(1658, 6)\n",
      "[0 1 0 0 0 0]\n"
     ]
    }
   ],
   "source": [
    "threshold = 100 #number of occurences of a weather we want to forecast\n",
    "ids_to_keep = []\n",
    "for n,ID in sorted_weather:\n",
    "    if n > threshold:\n",
    "        ids_to_keep.append(ID)\n",
    "print \"These are the ids of weather we want to keep: \", ids_to_keep \n",
    "print \"The amount of initial data points: \", len(weather_a)\n",
    "indices_we_want = []\n",
    "for i in range(len(weather_a)):\n",
    "    if weather_a[i] in ids_to_keep:\n",
    "        indices_we_want.append(i)\n",
    "\n",
    "\n",
    "print \"The amount of data after removing rare weather: \", len(indices_we_want)\n",
    "weather_a2 = weather_a[indices_we_want]\n",
    "humidity_a2 = humidity_a[indices_we_want]/np.linalg.norm(humidity_a[indices_we_want]) #numpy array from here\n",
    "pressure_a2 = pressure_a[indices_we_want]/np.linalg.norm(pressure_a[indices_we_want])\n",
    "temperature_a2 = temperature_a[indices_we_want]/np.linalg.norm(temperature_a[indices_we_want])\n",
    "wind_dir_a2 = wind_dir_a[indices_we_want]* np.pi / 180.\n",
    "wind_vel_a2 = wind_vel_a[indices_we_want]/np.linalg.norm(wind_vel_a[indices_we_want])\n",
    "n_weather = len(ids_to_keep)\n",
    "weather_one_hot_o = (np.arange(n_weather) == weather_a2[:,np.newaxis])*1\n",
    "print weather_one_hot_o.shape\n",
    "print weather_one_hot_o[1] #how the one-hots look, this probably means \"broken clouds\""
   ]
  },
  {
   "cell_type": "markdown",
   "metadata": {},
   "source": [
    "2 degrees and 355 are not too different when using trig.functions. However, we need both sine and cosine, unless we can't\n",
    "differentiate between north and south / east n west."
   ]
  },
  {
   "cell_type": "code",
   "execution_count": 208,
   "metadata": {},
   "outputs": [
    {
     "name": "stdout",
     "output_type": "stream",
     "text": [
      "object\n",
      "float64\n",
      "float64\n",
      "float64\n",
      "float64\n",
      "float64\n",
      "float32\n",
      "float32\n",
      "float32\n",
      "float32\n",
      "float32\n",
      "float32\n"
     ]
    }
   ],
   "source": [
    "wind_dir_sin = np.sin(wind_dir_a2)/np.linalg.norm(np.sin(wind_dir_a2))\n",
    "wind_dir_cos = np.cos(wind_dir_a2)/np.linalg.norm(np.cos(wind_dir_a2)) \n",
    "print weather_a2.dtype\n",
    "print humidity_a2.dtype\n",
    "print pressure_a2.dtype\n",
    "print temperature_a2.dtype\n",
    "print wind_dir_a2.dtype\n",
    "print wind_vel_a2.dtype\n",
    "weather_a2 = weather_a2.astype(np.float32)\n",
    "humidity_a2 = humidity_a2.astype(np.float32)\n",
    "pressure_a2 = pressure_a2.astype(np.float32)\n",
    "temperature_a2 = temperature_a2.astype(np.float32)\n",
    "wind_dir_a2 = wind_dir_a2.astype(np.float32)\n",
    "wind_vel_a2 = wind_vel_a2.astype(np.float32)\n",
    "print weather_a2.dtype\n",
    "print humidity_a2.dtype\n",
    "print pressure_a2.dtype\n",
    "print temperature_a2.dtype\n",
    "print wind_dir_a2.dtype\n",
    "print wind_vel_a2.dtype"
   ]
  },
  {
   "cell_type": "markdown",
   "metadata": {},
   "source": [
    "The data is now consisting of around 1800 daily measurements. I'm thinking of designing an lstm-based RNN in such a way that the three precursing days predict the weather on the fourth."
   ]
  },
  {
   "cell_type": "code",
   "execution_count": 209,
   "metadata": {},
   "outputs": [
    {
     "name": "stdout",
     "output_type": "stream",
     "text": [
      "(165, 6)\n",
      "(1493, 7)\n",
      "(1493, 6)\n"
     ]
    }
   ],
   "source": [
    "data = np.stack((weather_a2,humidity_a2,pressure_a2,temperature_a2,wind_dir_sin,wind_dir_cos,wind_vel_a2)).T\n",
    "N_days = 2 #number of days to use before prediction day\n",
    "#digitalization of weather description is simply its id, normalized then standardized\n",
    "#it's the first of the 7 columns that now exist within \"data\"\n",
    "\n",
    "meen = np.mean(data,axis=0)\n",
    "std = np.std(data,axis=0)\n",
    "data = (data-meen)/std\n",
    "test_cursor = data.shape[0]-data.shape[0]/10\n",
    "test_data = data[test_cursor:].astype(np.float32)\n",
    "#test_data=  test_data.as_type(np.float32)\n",
    "test_labels = weather_one_hot_o[test_cursor:]\n",
    "data = data[:test_cursor]\n",
    "weather_one_hot=weather_one_hot_o[:test_cursor]\n",
    "classes = data.shape[-1]\n",
    "n_labels = weather_one_hot.shape[-1]\n",
    "print test_labels.shape\n",
    "print data.shape\n",
    "print weather_one_hot.shape\n",
    "\n",
    "def accuracy(preds,labs):\n",
    "    return np.mean(np.argmax(preds,axis=1)==np.argmax(labs,axis=1))\n",
    "batch_size = 32*4"
   ]
  },
  {
   "cell_type": "code",
   "execution_count": 210,
   "metadata": {},
   "outputs": [],
   "source": [
    "def batchgen(batch,batch_label,size):\n",
    "    x = []\n",
    "    y = np.zeros((size,n_labels))\n",
    "    for i in range(N_days):\n",
    "        x.append(batch[i:(i+size)])\n",
    "    y = batch_label\n",
    "    return x,y\n",
    "def batchgen2():\n",
    "    x = []\n",
    "    y = np.zeros((batch_size,n_labels))\n",
    "    indices = np.random.choice(np.arange(len(data)-N_days-2),(N_days,batch_size),replace=False)\n",
    "    for i in range(N_days-1):\n",
    "        indices[i+1,:] = indices[i,:]+1\n",
    "        x.append(data[indices[i]])\n",
    "    x.append(data[indices[-1]])\n",
    "    y = weather_one_hot[indices[-1]+1]\n",
    "    return x,y"
   ]
  },
  {
   "cell_type": "code",
   "execution_count": 211,
   "metadata": {},
   "outputs": [],
   "source": [
    "num_nodes = 64*4 #since there're seven input nodes, 7 squares seems like a fitting number of nodes\n",
    "ix = tf.Variable(tf.truncated_normal([classes, num_nodes], -0.1, 0.1))\n",
    "ih = tf.Variable(tf.truncated_normal([num_nodes, num_nodes], -0.1, 0.1))\n",
    "ib = tf.Variable(tf.zeros(num_nodes))\n",
    "fx = tf.Variable(tf.truncated_normal([classes, num_nodes], -0.1, 0.1))\n",
    "fh = tf.Variable(tf.truncated_normal([num_nodes, num_nodes], -0.1, 0.1))\n",
    "fb = tf.Variable(tf.zeros(num_nodes))\n",
    "ox = tf.Variable(tf.truncated_normal([classes, num_nodes], -0.1, 0.1))\n",
    "oh = tf.Variable(tf.truncated_normal([num_nodes, num_nodes], -0.1, 0.1))\n",
    "ob = tf.Variable(tf.zeros(num_nodes))\n",
    "cx = tf.Variable(tf.truncated_normal([classes, num_nodes], -0.1, 0.1))\n",
    "ch = tf.Variable(tf.truncated_normal([num_nodes, num_nodes], -0.1, 0.1))\n",
    "cb = tf.Variable(tf.zeros(num_nodes))\n",
    "\n",
    "saved_h = tf.Variable(tf.zeros([batch_size, num_nodes]), trainable=False) #h_t-1\n",
    "saved_cell = tf.Variable(tf.zeros([batch_size, num_nodes]), trainable=False) #c_t-1\n",
    "w = tf.Variable(tf.truncated_normal([num_nodes, num_nodes], -0.1, 0.1))\n",
    "b = tf.Variable(tf.zeros([num_nodes]))\n",
    "w2 = tf.Variable(tf.truncated_normal([num_nodes, n_labels], -0.1, 0.1))\n",
    "b2 = tf.Variable(tf.zeros([n_labels]))\n",
    "\n",
    "def lstm_drop(x,h,cell):\n",
    "    input_gate = tf.sigmoid(tf.matmul(x, ix) + tf.matmul(h, ih) + ib)\n",
    "    forget_gate = tf.sigmoid(tf.matmul(x, fx) + tf.matmul(h, fh) + fb)\n",
    "    update = tf.matmul(x, cx) + tf.matmul(h, ch) + cb\n",
    "    cell = tf.nn.dropout(forget_gate * cell + input_gate * tf.tanh(update),0.7)\n",
    "    h = tf.nn.dropout(tf.sigmoid(tf.matmul(x, ox) + tf.matmul(h, oh) + ob),0.7)\n",
    "    return h * tf.tanh(cell), cell\n",
    "\n",
    "def lstm(x,h,cell):\n",
    "    input_gate = tf.sigmoid(tf.matmul(x, ix) + tf.matmul(h, ih) + ib)\n",
    "    forget_gate = tf.sigmoid(tf.matmul(x, fx) + tf.matmul(h, fh) + fb)\n",
    "    update = tf.matmul(x, cx) + tf.matmul(h, ch) + cb\n",
    "    cell = forget_gate * cell + input_gate * tf.tanh(update)\n",
    "    h = tf.sigmoid(tf.matmul(x, ox) + tf.matmul(h, oh) + ob)\n",
    "    return h * tf.tanh(cell), cell\n",
    "x_train = list()\n",
    "for i in range(N_days):\n",
    "    x_train.append(tf.placeholder(tf.float32,shape=[batch_size,classes]))\n",
    "y_train = tf.placeholder(tf.float32,shape=[batch_size,n_labels])\n",
    "\n",
    "# Unrolled LSTM loop. #forward propogating\n",
    "h = saved_h   #think more about these\n",
    "cell = saved_cell\n",
    "for i in x_train:\n",
    "    h, cell = lstm_drop(i, h, cell)\n",
    "# State saving across unrollings.\n",
    "\n",
    "test_n = test_data.shape[0]\n",
    "input_size = test_n/N_days\n",
    "x_test = list()\n",
    "#x_test = tf.constant(test_data)\n",
    "\n",
    "saved_h_test = tf.Variable(tf.zeros([input_size, num_nodes]), trainable=False) #h_t-1\n",
    "saved_cell_test = tf.Variable(tf.zeros([input_size, num_nodes]), trainable=False) #c_t-1\n",
    "\n",
    "for i in range(N_days):\n",
    "    x_test.append(tf.placeholder(tf.float32,shape=[input_size,classes]))\n",
    "y_test = tf.placeholder(tf.float32,shape=[input_size,n_labels])\n",
    "\n",
    "\n",
    "h_test = saved_h_test\n",
    "cell_test = saved_cell_test\n",
    "for i in range(N_days):\n",
    "    h_test, cell_test = lstm(x_test[i],h_test,cell_test)\n",
    "\n",
    "with tf.control_dependencies([saved_h.assign(h),\n",
    "                              saved_cell.assign(cell)]):\n",
    "                              \n",
    "    logits = tf.matmul(h,w)+b\n",
    "    logits = tf.nn.softmax(tf.matmul(logits,w2) +b2)\n",
    "    loss = tf.reduce_mean(\n",
    "        tf.nn.softmax_cross_entropy_with_logits_v2(\n",
    "            labels= y_train, logits = logits))\n",
    "with tf.control_dependencies([saved_h_test.assign(h_test),\n",
    "                              saved_cell_test.assign(cell_test)]):\n",
    "    test_preds = tf.matmul(h_test, w)+b\n",
    "    test_preds = tf.nn.softmax(tf.matmul(h_test, w2)+b2)\n",
    "    \n",
    "\n",
    "learning_rate = tf.Variable(1.0)\n",
    "optimizer = tf.train.GradientDescentOptimizer(learning_rate).minimize(loss)\n"
   ]
  },
  {
   "cell_type": "code",
   "execution_count": 213,
   "metadata": {},
   "outputs": [
    {
     "name": "stdout",
     "output_type": "stream",
     "text": [
      "0.25 batch accuracy 0.85\n",
      "0.25 batch accuracy 0.7225\n",
      "0.234375 batch accuracy 0.614125\n",
      "0.2421875 batch accuracy 0.5220063\n",
      "0.3046875 batch accuracy 0.44370535\n",
      "0.265625 batch accuracy 0.37714955\n",
      "0.234375 batch accuracy 0.3205771\n",
      "0.21875 batch accuracy 0.27249056\n",
      "0.234375 batch accuracy 0.23161699\n",
      "0.21875 batch accuracy 0.19687444\n",
      "0.2578125 batch accuracy 0.16734327\n",
      "0.3359375 batch accuracy 0.14224179\n",
      "0.3125 batch accuracy 0.120905526\n",
      "0.3125 batch accuracy 0.1027697\n",
      "0.2734375 batch accuracy 0.08735425\n",
      "0.28125 batch accuracy 0.074251115\n",
      "0.3046875 batch accuracy 0.06311345\n",
      "0.2578125 batch accuracy 0.053646434\n",
      "0.3046875 batch accuracy 0.04559947\n",
      "0.2890625 batch accuracy 0.038759552\n",
      "0.3046875 batch accuracy 0.03294562\n",
      "0.34375 batch accuracy 0.02800378\n",
      "0.296875 batch accuracy 0.023803214\n",
      "0.234375 batch accuracy 0.020232731\n",
      "0.21875 batch accuracy 0.017197823\n",
      "0.296875 batch accuracy 0.01461815\n",
      "0.3359375 batch accuracy 0.012425428\n",
      "0.328125 batch accuracy 0.010561614\n",
      "0.3125 batch accuracy 0.008977372\n",
      "0.2890625 batch accuracy 0.0076307664\n",
      "0.203125 batch accuracy 0.0064861514\n",
      "0.234375 batch accuracy 0.005513229\n",
      "0.296875 batch accuracy 0.0046862448\n",
      "0.2734375 batch accuracy 0.003983308\n",
      "0.3515625 batch accuracy 0.003385812\n",
      "0.3046875 batch accuracy 0.0028779404\n",
      "0.296875 batch accuracy 0.0024462494\n",
      "0.296875 batch accuracy 0.002079312\n",
      "0.359375 batch accuracy 0.0017674152\n",
      "0.3046875 batch accuracy 0.0015023029\n",
      "0.3125 batch accuracy 0.0012769576\n",
      "0.390625 batch accuracy 0.001085414\n",
      "0.296875 batch accuracy 0.0009226019\n",
      "0.2890625 batch accuracy 0.0007842116\n",
      "[0.3780487804878049, 0.4146341463414634, 0.3780487804878049, 0.4268292682926829, 0.3780487804878049, 0.36585365853658536, 0.35365853658536583, 0.3902439024390244, 0.3902439024390244, 0.35365853658536583, 0.3780487804878049, 0.35365853658536583, 0.3780487804878049, 0.3902439024390244, 0.36585365853658536, 0.36585365853658536, 0.36585365853658536, 0.3780487804878049, 0.36585365853658536, 0.3780487804878049, 0.3902439024390244, 0.3902439024390244, 0.36585365853658536, 0.3780487804878049, 0.34146341463414637, 0.3780487804878049, 0.34146341463414637, 0.35365853658536583, 0.36585365853658536, 0.36585365853658536, 0.35365853658536583, 0.34146341463414637, 0.35365853658536583, 0.3780487804878049, 0.35365853658536583, 0.36585365853658536, 0.35365853658536583, 0.36585365853658536, 0.36585365853658536, 0.35365853658536583, 0.32926829268292684, 0.32926829268292684, 0.3170731707317073, 0.3170731707317073, 0.3170731707317073, 0.3048780487804878, 0.2926829268292683, 0.3048780487804878, 0.3048780487804878, 0.3170731707317073, 0.3170731707317073, 0.3170731707317073, 0.34146341463414637, 0.34146341463414637, 0.32926829268292684, 0.32926829268292684, 0.3170731707317073, 0.3170731707317073, 0.3048780487804878, 0.3048780487804878, 0.3170731707317073, 0.32926829268292684, 0.3170731707317073, 0.3170731707317073, 0.32926829268292684, 0.32926829268292684, 0.35365853658536583, 0.34146341463414637, 0.35365853658536583, 0.34146341463414637, 0.34146341463414637, 0.32926829268292684, 0.32926829268292684, 0.3170731707317073, 0.32926829268292684, 0.32926829268292684, 0.34146341463414637, 0.34146341463414637, 0.35365853658536583]\n",
      "0.34810126582278467 wat\n"
     ]
    }
   ],
   "source": [
    "epochs =100\n",
    "decay = learning_rate.assign(tf.multiply(0.85,learning_rate))\n",
    "days = int(data.shape[0])\n",
    "cursor_jump = batch_size/4\n",
    "rangee = range(0,days-batch_size-N_days-2,cursor_jump)\n",
    "with tf.Session() as sess:\n",
    "    tf.global_variables_initializer().run()\n",
    "    for e in range(epochs):\n",
    "        for cursor in rangee:\n",
    "            batchx = data[cursor:(cursor+batch_size+N_days+1)] #weather data (batch + 4)\n",
    "            batchy = weather_one_hot[cursor+N_days+1:(cursor+batch_size+N_days+1)] #weather targets (batch)\n",
    "            #x,y = batchgen(batchx,batchy,batch_size) #data structured into batches\n",
    "            x,y = batchgen2()\n",
    "            feed_dict = dict()\n",
    "            for i in range(N_days):\n",
    "                feed_dict[x_train[i]] = x[i]\n",
    "            feed_dict[y_train]=y\n",
    "            _, l, preds = sess.run([optimizer,loss,logits],feed_dict=feed_dict)\n",
    "            #if cursor %batch_size*10 ==0:\n",
    "            if e %  2 == 0 and np.random.random()>1-1./len(rangee):\n",
    "                sess.run(decay)\n",
    "                #print sess.run(learning_rate), 'learning rate'\n",
    "                print accuracy(preds,y), \"batch accuracy\", sess.run(learning_rate)\n",
    "\n",
    "    test = []\n",
    "    for i in range(0,test_n-input_size-N_days-2,1):\n",
    "        testx = test_data[i:(i+input_size+N_days+1)]\n",
    "        testy = test_labels[i+N_days+1:(i+input_size+N_days+1)]\n",
    "        xt,yt = batchgen(testx,testy,input_size)\n",
    "        feedy_dict = dict()\n",
    "        for j in range(N_days):\n",
    "            feedy_dict[x_test[j]] = xt[j]\n",
    "        feedy_dict[y_test] = yt\n",
    "        test.append(accuracy(sess.run(test_preds,feed_dict=feedy_dict),yt))\n",
    "    print test\n",
    "    print np.mean(test), 'wat'\n"
   ]
  },
  {
   "cell_type": "code",
   "execution_count": null,
   "metadata": {},
   "outputs": [],
   "source": []
  },
  {
   "cell_type": "code",
   "execution_count": null,
   "metadata": {},
   "outputs": [],
   "source": []
  }
 ],
 "metadata": {
  "kernelspec": {
   "display_name": "Python 2",
   "language": "python",
   "name": "python2"
  },
  "language_info": {
   "codemirror_mode": {
    "name": "ipython",
    "version": 2
   },
   "file_extension": ".py",
   "mimetype": "text/x-python",
   "name": "python",
   "nbconvert_exporter": "python",
   "pygments_lexer": "ipython2",
   "version": "2.7.12"
  }
 },
 "nbformat": 4,
 "nbformat_minor": 2
}
