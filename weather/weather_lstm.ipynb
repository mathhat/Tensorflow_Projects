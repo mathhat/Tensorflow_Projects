{
 "cells": [
  {
   "cell_type": "markdown",
   "metadata": {},
   "source": [
    "This is just an attempt to forecast weather. I'll be using some machine-learning techniques, most likely lstm/RNN networks. The weather data is on 20 some US cities, 8 israeli cities and one in canada. Got it on kaggle, dubbed \"historical hourly weather data\""
   ]
  },
  {
   "cell_type": "code",
   "execution_count": 28,
   "metadata": {},
   "outputs": [],
   "source": [
    "import numpy as np \n",
    "import tensorflow as tf \n",
    "import pandas as pd\n",
    "import matplotlib.pyplot as plt\n",
    "plt.style.use('fivethirtyeight') \n",
    "# Above is a special style template for matplotlib, highly useful for visualizing time series data\n",
    "%matplotlib inline"
   ]
  },
  {
   "cell_type": "markdown",
   "metadata": {},
   "source": [
    "Loading data, it's now in an hourly format with a fair share of vacancies that pandas can fill with the \"ffill\" method"
   ]
  },
  {
   "cell_type": "code",
   "execution_count": 29,
   "metadata": {},
   "outputs": [
    {
     "name": "stdout",
     "output_type": "stream",
     "text": [
      "1\n",
      "2\n",
      "3\n",
      "4\n",
      "5\n",
      "6\n"
     ]
    }
   ],
   "source": [
    "datapath = \"/home/joe/Documents/tensor/weather/historical-hourly-weather-data/\"\n",
    "names=['city_attributes.csv','humidity.csv','pressure.csv','temperature.csv','weather_description.csv','wind_direction.csv','wind_speed.csv']\n",
    "data = []\n",
    "for i in range(1,7):\n",
    "    print i\n",
    "    data_i = pd.read_csv(datapath+names[i], index_col='datetime', parse_dates=['datetime'])\n",
    "    data_i = data_i.iloc[1:]\n",
    "    data_i = data_i.fillna(method='ffill')\n",
    "    data_i = data_i.fillna(method='bfill')\n",
    "    data.append(data_i)"
   ]
  },
  {
   "cell_type": "markdown",
   "metadata": {},
   "source": [
    "Suitable variable names, delete unnecessary data"
   ]
  },
  {
   "cell_type": "code",
   "execution_count": 30,
   "metadata": {},
   "outputs": [],
   "source": [
    "#create variables\n",
    "humidity = data[0] #floats , no idea \n",
    "pressure = data[1] #floats kPa i think\n",
    "temperature = data[2] #floats kelvin\n",
    "weather = data[3]   #string\n",
    "wind_dir = data[4]  #degrees [0,360]\n",
    "wind_vel = data[5]\n",
    "if 'data' in globals(): #if data hasn't already been deleted for memory purposes\n",
    "    del(data)\n",
    "    del(data_i)"
   ]
  },
  {
   "cell_type": "markdown",
   "metadata": {},
   "source": [
    "Choose a city?"
   ]
  },
  {
   "cell_type": "code",
   "execution_count": 31,
   "metadata": {},
   "outputs": [],
   "source": [
    "cityname = \"Vancouver\"\n",
    "if len(cityname) > 2:\n",
    "    humidity = humidity[cityname].asfreq('D')\n",
    "    pressure = pressure[cityname].asfreq('D')\n",
    "    temperature = temperature[cityname].asfreq('D')\n",
    "    weather = weather[cityname].asfreq('D')\n",
    "    wind_dir = wind_dir[cityname].asfreq('D')\n",
    "    wind_vel = wind_vel[cityname].asfreq('D')"
   ]
  },
  {
   "cell_type": "markdown",
   "metadata": {},
   "source": [
    "Plot?"
   ]
  },
  {
   "cell_type": "code",
   "execution_count": 32,
   "metadata": {},
   "outputs": [
    {
     "data": {
      "image/png": "[encoded data removed]",
      "text/plain": [
       "<matplotlib.figure.Figure at 0x7f26080c9b50>"
      ]
     },
     "metadata": {},
     "output_type": "display_data"
    }
   ],
   "source": [
    "''' #Useful operations\n",
    "#print humidity.tail()\n",
    "#print humidity.resample('H').shape\n",
    "'''\n",
    "humidity.asfreq('M').plot()\n",
    "#humidity.rolling('30D').mean().plot()\n",
    "plt.title(\"Humidity in %s\"%cityname)\n",
    "plt.show()\n"
   ]
  },
  {
   "cell_type": "markdown",
   "metadata": {},
   "source": [
    "Can't use previous plot functions, or scripts, after this point, here starts the machinelearning I hope"
   ]
  },
  {
   "cell_type": "code",
   "execution_count": 33,
   "metadata": {},
   "outputs": [],
   "source": [
    "humidity_a = humidity.as_matrix() #numpy array from here\n",
    "pressure_a = pressure.as_matrix()\n",
    "temperature_a = temperature.as_matrix()\n",
    "weather_a = weather.as_matrix()\n",
    "wind_dir_a = wind_dir.as_matrix()\n",
    "wind_vel_a = wind_vel.as_matrix()"
   ]
  },
  {
   "cell_type": "code",
   "execution_count": 34,
   "metadata": {},
   "outputs": [
    {
     "name": "stdout",
     "output_type": "stream",
     "text": [
      "997.0 281.84 70.0 1.0\n",
      "997.0 280.07 80.0 2.0\n",
      "997.0 278.06 40.0 1.0\n",
      "1001.0 277.8 80.0 2.0\n",
      "1013.0 279.83 60.0 3.0\n"
     ]
    }
   ],
   "source": [
    "weather_types = dict() #weather to id\n",
    "weather_frequency = dict() #weather to frequency\n",
    "j = 0\n",
    "for i in range(len(weather_a)):\n",
    "    \n",
    "    if weather_a[i] not in weather_types:\n",
    "        weather_frequency[weather_a[i]] = 0\n",
    "        weather_types[weather_a[i]] = j \n",
    "        j+=1\n",
    "    weather_frequency[weather_a[i]] += 1\n",
    "    weather_a[i] = weather_types[weather_a[i]]\n",
    "for i in range(50,55):\n",
    "    print pressure_a[i], temperature_a[i], wind_dir_a[i], wind_vel_a[i]"
   ]
  },
  {
   "cell_type": "markdown",
   "metadata": {},
   "source": [
    "Weather types will now be ranked by frequency. We then remove rare weather"
   ]
  },
  {
   "cell_type": "code",
   "execution_count": 35,
   "metadata": {},
   "outputs": [
    {
     "name": "stdout",
     "output_type": "stream",
     "text": [
      "[(1, 9), (1, 18), (1, 20), (2, 13), (2, 19), (2, 21), (3, 17), (4, 15), (5, 14), (9, 16), (19, 11), (38, 12), (51, 3), (68, 8), (70, 7), (105, 6), (149, 10), (163, 0), (176, 1), (237, 5), (261, 4), (519, 2)]\n"
     ]
    }
   ],
   "source": [
    "sorted_weather = sorted( zip(weather_frequency.values(),weather_types.values()))\n",
    "print sorted_weather"
   ]
  },
  {
   "cell_type": "markdown",
   "metadata": {},
   "source": [
    "Here we pinpoint which indices in the dataset that belong to the most frequent weather types. (and redefine the dataset so that only the data belonging to typical weather remains. We also normalize the data."
   ]
  },
  {
   "cell_type": "code",
   "execution_count": 82,
   "metadata": {},
   "outputs": [
    {
     "name": "stdout",
     "output_type": "stream",
     "text": [
      "These are the ids of weather we want to keep:  [3, 8, 7, 6, 10, 0, 1, 5, 4, 2]\n",
      "The amount of initial data points:  1886\n",
      "The amount of data after removing rare weather:  1799\n",
      "(1799, 10)\n",
      "[0 1 0 0 0 0 0 0 0 0]\n"
     ]
    }
   ],
   "source": [
    "threshold = 50 #number of occurences of a weather we want to forecast\n",
    "ids_to_keep = []\n",
    "for n,ID in sorted_weather:\n",
    "    if n > threshold:\n",
    "        ids_to_keep.append(ID)\n",
    "print \"These are the ids of weather we want to keep: \", ids_to_keep \n",
    "print \"The amount of initial data points: \", len(weather_a)\n",
    "indices_we_want = []\n",
    "for i in range(len(weather_a)):\n",
    "    if weather_a[i] in ids_to_keep:\n",
    "        indices_we_want.append(i)\n",
    "\n",
    "\n",
    "print \"The amount of data after removing rare weather: \", len(indices_we_want)\n",
    "weather_a2 = weather_a[indices_we_want]\n",
    "humidity_a2 = humidity_a[indices_we_want]/np.linalg.norm(humidity_a[indices_we_want]) #numpy array from here\n",
    "pressure_a2 = pressure_a[indices_we_want]/np.linalg.norm(pressure_a[indices_we_want])\n",
    "temperature_a2 = temperature_a[indices_we_want]/np.linalg.norm(temperature_a[indices_we_want])\n",
    "wind_dir_a2 = wind_dir_a[indices_we_want]* np.pi / 180.\n",
    "wind_vel_a2 = wind_vel_a[indices_we_want]/np.linalg.norm(wind_vel_a[indices_we_want])\n",
    "n_weather = len(ids_to_keep)\n",
    "weather_one_hot_o = (np.arange(n_weather) == weather_a2[:,np.newaxis])*1\n",
    "print weather_one_hot_o.shape\n",
    "print weather_one_hot_o[1] #how the one-hots look, this probably means \"broken clouds\""
   ]
  },
  {
   "cell_type": "markdown",
   "metadata": {},
   "source": [
    "2 degrees and 355 are not too different when using trig.functions. However, we need both sine and cosine, unless we can't\n",
    "differentiate between north and south / east n west."
   ]
  },
  {
   "cell_type": "code",
   "execution_count": 83,
   "metadata": {},
   "outputs": [
    {
     "name": "stdout",
     "output_type": "stream",
     "text": [
      "object\n",
      "float64\n",
      "float64\n",
      "float64\n",
      "float64\n",
      "float64\n",
      "float32\n",
      "float32\n",
      "float32\n",
      "float32\n",
      "float32\n",
      "float32\n"
     ]
    }
   ],
   "source": [
    "wind_dir_sin = np.sin(wind_dir_a2)/np.linalg.norm(np.sin(wind_dir_a2))\n",
    "wind_dir_cos = np.cos(wind_dir_a2)/np.linalg.norm(np.cos(wind_dir_a2)) \n",
    "print weather_a2.dtype\n",
    "print humidity_a2.dtype\n",
    "print pressure_a2.dtype\n",
    "print temperature_a2.dtype\n",
    "print wind_dir_a2.dtype\n",
    "print wind_vel_a2.dtype\n",
    "weather_a2 = weather_a2.astype(np.float32)\n",
    "humidity_a2 = humidity_a2.astype(np.float32)\n",
    "pressure_a2 = pressure_a2.astype(np.float32)\n",
    "temperature_a2 = temperature_a2.astype(np.float32)\n",
    "wind_dir_a2 = wind_dir_a2.astype(np.float32)\n",
    "wind_vel_a2 = wind_vel_a2.astype(np.float32)\n",
    "print weather_a2.dtype\n",
    "print humidity_a2.dtype\n",
    "print pressure_a2.dtype\n",
    "print temperature_a2.dtype\n",
    "print wind_dir_a2.dtype\n",
    "print wind_vel_a2.dtype"
   ]
  },
  {
   "cell_type": "markdown",
   "metadata": {},
   "source": [
    "The data is now consisting of around 1800 daily measurements. I'm thinking of designing an lstm-based RNN in such a way that the three precursing days predict the weather on the fourth."
   ]
  },
  {
   "cell_type": "code",
   "execution_count": 85,
   "metadata": {},
   "outputs": [
    {
     "name": "stdout",
     "output_type": "stream",
     "text": [
      "(449, 10)\n",
      "(1350, 7)\n",
      "(1350, 10)\n"
     ]
    }
   ],
   "source": [
    "data = np.stack((weather_a2,humidity_a2,pressure_a2,temperature_a2,wind_dir_sin,wind_dir_cos,wind_vel_a2)).T\n",
    "N_days = 3 #number of days to use before prediction day\n",
    "#digitalization of weather description is simply its id, normalized then standardized\n",
    "#it's the first of the 7 columns that now exist within \"data\"\n",
    "\n",
    "meen = np.mean(data,axis=0)\n",
    "std = np.std(data,axis=0)\n",
    "data = (data-meen)/std\n",
    "test_cursor = data.shape[0]-data.shape[0]/4\n",
    "test_data = data[test_cursor:].astype(np.float32)\n",
    "#test_data=  test_data.as_type(np.float32)\n",
    "test_labels = weather_one_hot_o[test_cursor:]\n",
    "data = data[:test_cursor]\n",
    "weather_one_hot=weather_one_hot_o[:test_cursor]\n",
    "classes = data.shape[-1]\n",
    "n_labels = weather_one_hot.shape[-1]\n",
    "print test_labels.shape\n",
    "print data.shape\n",
    "print weather_one_hot.shape\n",
    "\n",
    "def accuracy(preds,labs):\n",
    "    return np.mean(np.argmax(preds,axis=1)==np.argmax(labs,axis=1))\n",
    "batch_size = 32"
   ]
  },
  {
   "cell_type": "code",
   "execution_count": 86,
   "metadata": {},
   "outputs": [],
   "source": [
    "def batchgen(batch,batch_label,size):\n",
    "    x = []\n",
    "    y = np.zeros((size,n_labels))\n",
    "    for i in range(N_days):\n",
    "        x.append(batch[i:(i+size)])\n",
    "    y = batch_label\n",
    "    return x,y\n",
    "def batchgen2():\n",
    "    x = []\n",
    "    y = np.zeros((batch_size,n_labels))\n",
    "    indices = np.random.choice(np.arange(len(data)-N_days-2),(N_days,batch_size),replace=False)\n",
    "    for i in range(N_days-1):\n",
    "        indices[i+1,:] = indices[i,:]+1\n",
    "        x.append(data[indices[i]])\n",
    "    x.append(data[indices[i+1]])\n",
    "    y = weather_one_hot[indices[-1]+1]\n",
    "    return x,y"
   ]
  },
  {
   "cell_type": "code",
   "execution_count": 87,
   "metadata": {},
   "outputs": [],
   "source": [
    "num_nodes = 49*2 #since there're seven input nodes, 7 squares seems like a fitting number of nodes\n",
    "ix = tf.Variable(tf.truncated_normal([classes, num_nodes], -0.1, 0.1))\n",
    "ih = tf.Variable(tf.truncated_normal([num_nodes, num_nodes], -0.1, 0.1))\n",
    "ib = tf.Variable(tf.zeros(num_nodes))\n",
    "fx = tf.Variable(tf.truncated_normal([classes, num_nodes], -0.1, 0.1))\n",
    "fh = tf.Variable(tf.truncated_normal([num_nodes, num_nodes], -0.1, 0.1))\n",
    "fb = tf.Variable(tf.zeros(num_nodes))\n",
    "ox = tf.Variable(tf.truncated_normal([classes, num_nodes], -0.1, 0.1))\n",
    "oh = tf.Variable(tf.truncated_normal([num_nodes, num_nodes], -0.1, 0.1))\n",
    "ob = tf.Variable(tf.zeros(num_nodes))\n",
    "cx = tf.Variable(tf.truncated_normal([classes, num_nodes], -0.1, 0.1))\n",
    "ch = tf.Variable(tf.truncated_normal([num_nodes, num_nodes], -0.1, 0.1))\n",
    "cb = tf.Variable(tf.zeros(num_nodes))\n",
    "\n",
    "saved_h = tf.Variable(tf.zeros([batch_size, num_nodes]), trainable=False) #h_t-1\n",
    "saved_cell = tf.Variable(tf.zeros([batch_size, num_nodes]), trainable=False) #c_t-1\n",
    "w = tf.Variable(tf.truncated_normal([num_nodes, n_labels], -0.1, 0.1))\n",
    "b = tf.Variable(tf.zeros([n_labels]))\n",
    "\n",
    "def lstm(x,h,cell):\n",
    "    input_gate = tf.sigmoid(tf.matmul(x, ix) + tf.matmul(h, ih) + ib)\n",
    "    forget_gate = tf.sigmoid(tf.matmul(x, fx) + tf.matmul(h, fh) + fb)\n",
    "    update = tf.matmul(x, cx) + tf.matmul(h, ch) + cb\n",
    "    cell = forget_gate * cell + input_gate * tf.tanh(update)\n",
    "    h = tf.sigmoid(tf.matmul(x, ox) + tf.matmul(h, oh) + ob)\n",
    "    return h * tf.tanh(cell), cell\n",
    "x_train = list()\n",
    "for i in range(N_days):\n",
    "    x_train.append(tf.placeholder(tf.float32,shape=[batch_size,classes]))\n",
    "y_train = tf.placeholder(tf.float32,shape=[batch_size,n_labels])\n",
    "\n",
    "# Unrolled LSTM loop. #forward propogating\n",
    "h = saved_h   #think more about these\n",
    "cell = saved_cell\n",
    "for i in x_train:\n",
    "    h, cell = lstm(i, h, cell)\n",
    "# State saving across unrollings.\n",
    "\n",
    "test_n = test_data.shape[0]\n",
    "input_size = test_n/N_days\n",
    "x_test = list()\n",
    "#x_test = tf.constant(test_data)\n",
    "\n",
    "saved_h_test = tf.Variable(tf.zeros([input_size, num_nodes]), trainable=False) #h_t-1\n",
    "saved_cell_test = tf.Variable(tf.zeros([input_size, num_nodes]), trainable=False) #c_t-1\n",
    "\n",
    "for i in range(N_days):\n",
    "    x_test.append(tf.placeholder(tf.float32,shape=[input_size,classes]))\n",
    "y_test = tf.placeholder(tf.float32,shape=[input_size,n_labels])\n",
    "\n",
    "\n",
    "h_test = saved_h_test\n",
    "cell_test = saved_cell_test\n",
    "for i in range(N_days):\n",
    "    h_test, cell_test = lstm(x_test[i],h_test,cell_test)\n",
    "\n",
    "with tf.control_dependencies([saved_h.assign(h),\n",
    "                              saved_cell.assign(cell)]):\n",
    "                              \n",
    "    logits = tf.matmul(h,w)+b\n",
    "    loss = tf.reduce_mean(\n",
    "        tf.nn.softmax_cross_entropy_with_logits_v2(\n",
    "            labels= y_train, logits = logits))\n",
    "with tf.control_dependencies([saved_h_test.assign(h_test),\n",
    "                              saved_cell_test.assign(cell_test)]):\n",
    "    test_preds = tf.nn.softmax(tf.matmul(h_test, w)+b)\n",
    "\n",
    "learning_rate = tf.Variable(1.0)\n",
    "optimizer = tf.train.GradientDescentOptimizer(learning_rate).minimize(loss)\n"
   ]
  },
  {
   "cell_type": "code",
   "execution_count": 93,
   "metadata": {},
   "outputs": [
    {
     "name": "stdout",
     "output_type": "stream",
     "text": [
      "0.34375 batch accuracy\n",
      "0.34375 batch accuracy\n",
      "0.34375 batch accuracy\n",
      "0.40625 batch accuracy\n",
      "0.28125 batch accuracy\n",
      "0.34375 batch accuracy\n",
      "0.25 batch accuracy\n",
      "0.125 batch accuracy\n",
      "0.375 batch accuracy\n",
      "0.25 batch accuracy\n",
      "0.21875 batch accuracy\n",
      "0.3125 batch accuracy\n",
      "0.375 batch accuracy\n",
      "0.3125 batch accuracy\n",
      "0.4375 batch accuracy\n",
      "0.3125 batch accuracy\n",
      "0.15625 batch accuracy\n",
      "0.28125 batch accuracy\n",
      "0.46875 batch accuracy\n",
      "0.15625 batch accuracy\n",
      "0.27181208053691275 wat\n"
     ]
    }
   ],
   "source": [
    "epochs = 100\n",
    "decay = learning_rate.assign(tf.multiply(0.4,learning_rate))\n",
    "days = int(data.shape[0])\n",
    "with tf.Session() as sess:\n",
    "    tf.global_variables_initializer().run()\n",
    "    for e in range(epochs):\n",
    "        for cursor in range(0,days-batch_size-N_days-2,batch_size):\n",
    "            batchx = data[cursor:(cursor+batch_size+N_days+1)] #weather data (batch + 4)\n",
    "            batchy = weather_one_hot[cursor+N_days+1:(cursor+batch_size+N_days+1)] #weather targets (batch)\n",
    "            #x,y = batchgen(batchx,batchy,batch_size) #data structured into batches\n",
    "            x,y = batchgen2()\n",
    "            feed_dict = dict()\n",
    "            for i in range(N_days):\n",
    "                feed_dict[x_train[i]] = x[i]\n",
    "            feed_dict[y_train]=y\n",
    "            _, l, preds = sess.run([optimizer,loss,logits],feed_dict=feed_dict)\n",
    "        #if cursor %batch_size*10 ==0:\n",
    "        if e % 5 == 0:\n",
    "            sess.run(decay)\n",
    "            #print sess.run(learning_rate), 'learning rate'\n",
    "            print accuracy(preds,y), \"batch accuracy\"\n",
    "\n",
    "    test = []\n",
    "    for i in range(0,test_n-input_size-N_days-2,input_size):\n",
    "        testx = test_data[i:(i+input_size+N_days+1)]\n",
    "        testy = test_labels[i+N_days+1:(i+input_size+N_days+1)]\n",
    "        xt,yt = batchgen(testx,testy,input_size)\n",
    "        feedy_dict = dict()\n",
    "        for j in range(N_days):\n",
    "            feedy_dict[x_test[j]] = xt[j]\n",
    "        feedy_dict[y_test] = yt\n",
    "        test.append(accuracy(sess.run(test_preds,feed_dict=feedy_dict),yt))\n",
    "    print np.mean(test), 'wat'\n"
   ]
  },
  {
   "cell_type": "code",
   "execution_count": null,
   "metadata": {},
   "outputs": [],
   "source": []
  },
  {
   "cell_type": "code",
   "execution_count": null,
   "metadata": {},
   "outputs": [],
   "source": []
  }
 ],
 "metadata": {
  "kernelspec": {
   "display_name": "Python 2",
   "language": "python",
   "name": "python2"
  },
  "language_info": {
   "codemirror_mode": {
    "name": "ipython",
    "version": 2
   },
   "file_extension": ".py",
   "mimetype": "text/x-python",
   "name": "python",
   "nbconvert_exporter": "python",
   "pygments_lexer": "ipython2",
   "version": "2.7.12"
  }
 },
 "nbformat": 4,
 "nbformat_minor": 2
}
